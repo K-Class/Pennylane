{
 "cells": [
  {
   "cell_type": "markdown",
   "id": "b72fb07a",
   "metadata": {},
   "source": [
    "![1](images/DIPOEL_DESSERT_100_1.png)\n",
    "\n",
    "    \n",
    "![2](images/DIPOEL_DESSERT_100_2.png)\n",
    "\n",
    "![3](images/DIPOEL_DESSERT_100_3.png)\n",
    "    \n",
    "![4](images/DIPOEL_DESSERT_100_4.png)"
   ]
  },
  {
   "cell_type": "code",
   "execution_count": 3,
   "id": "123459e1",
   "metadata": {},
   "outputs": [],
   "source": [
    "import json\n",
    "import pennylane as qml\n",
    "import pennylane.numpy as np\n",
    "\n",
    "\n",
    "dev = qml.device('default.qutrit', wires = 1)\n",
    "\n",
    "@qml.qnode(dev)\n",
    "def prepare_qutrit(chi, eta):\n",
    "    \"\"\"\n",
    "    This QNode prepares the state |phi> as defined in the statement and\n",
    "    computes the measurement probabilities in the qutrit computational basis.\n",
    "    \n",
    "    Args: \n",
    "        - chi (float): The angle chi parametrizing the state |phi>.\n",
    "        - eta (float): The angle eta parametrizing the state |eta>.\n",
    "    Returns:\n",
    "        - (np.array(float)): The measurement probabilities in the computational\n",
    "        basis after preparing the state.\n",
    "    \n",
    "    \"\"\"\n",
    "\n",
    "    # Put your code here #\n",
    "    U = np.array([[np.sin(chi)*np.cos(eta), 0, 0], [np.sin(chi)*np.sin(eta), 0, 0], [np.cos(chi), 0, 0]])\n",
    "    qml.QutritUnitary(U, wires=0)\n",
    "    return qml.probs(wires=0)\n",
    "\n",
    "def evaluate_sum(chi, eta_array):\n",
    "    \"\"\"\n",
    "    This QNode computes the sum S as in the statement.\n",
    "    \n",
    "    Args: \n",
    "        chi (float): The angle chi parametrizing the states |phi_i>.\n",
    "        eta_array (float): Contains the angles eta_i parametrizing the state |eta_i>.\n",
    "    Returns:\n",
    "        (np.array(float)): The sum S as defined in the statement.\n",
    "        \n",
    "    \"\"\"\n",
    "\n",
    "    # Put your code here\n",
    "    S = 0.0 \n",
    "    for _ in eta_array:\n",
    "        S += (np.cos(chi))**2\n",
    "    return S\n",
    "\n",
    "# These functions are responsible for testing the solution.\n",
    "\n",
    "\n",
    "def run(test_case_input: str) -> str:\n",
    "    ins = json.loads(test_case_input)\n",
    "    outs = evaluate_sum(*ins)\n",
    "    \n",
    "    return str(outs)\n",
    "\n",
    "\n",
    "def check(solution_output: str, expected_output: str) -> None:\n",
    "    solution_output = json.loads(solution_output)\n",
    "    expected_output = json.loads(expected_output)\n",
    "    assert np.allclose(solution_output,expected_output, atol = 1e-4), \"Not the correct sum!\"\n"
   ]
  },
  {
   "cell_type": "code",
   "execution_count": null,
   "id": "beb11738",
   "metadata": {},
   "outputs": [],
   "source": []
  }
 ],
 "metadata": {
  "kernelspec": {
   "display_name": "Python 3 (ipykernel)",
   "language": "python",
   "name": "python3"
  },
  "language_info": {
   "codemirror_mode": {
    "name": "ipython",
    "version": 3
   },
   "file_extension": ".py",
   "mimetype": "text/x-python",
   "name": "python",
   "nbconvert_exporter": "python",
   "pygments_lexer": "ipython3",
   "version": "3.11.5"
  }
 },
 "nbformat": 4,
 "nbformat_minor": 5
}
