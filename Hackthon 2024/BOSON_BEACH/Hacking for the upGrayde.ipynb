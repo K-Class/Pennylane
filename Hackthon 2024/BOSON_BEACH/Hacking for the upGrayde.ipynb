{
 "cells": [
  {
   "cell_type": "markdown",
   "id": "b44f9057",
   "metadata": {},
   "source": [
    "![1](images/Boson_beach_100_1.png)\n",
    "    \n",
    "![2](images/Boson_beach_100_2.png)"
   ]
  },
  {
   "cell_type": "code",
   "execution_count": 2,
   "id": "3f52f4f6",
   "metadata": {},
   "outputs": [],
   "source": [
    "import json\n",
    "import pennylane as qml\n",
    "import pennylane.numpy as np\n",
    "\n",
    "\n",
    "\n",
    "def binary_to_grey(num_wires):\n",
    "\n",
    "    \"\"\"\n",
    "    A function mapping binary encoded qubits to gray code.\n",
    "\n",
    "    Args:\n",
    "        num_wires (int): The number of qubits.\n",
    "\n",
    "    \"\"\"\n",
    "\n",
    "    # Put your solution here #\n",
    "    if num_wires == 2: \n",
    "      qml.CNOT([0,1])\n",
    "    else:      \n",
    "      for i in range(num_wires-1, 0,-1):\n",
    "        qml.CNOT([i-1,i])\n",
    "\n",
    "        \n",
    "def run(test_case_input: str) -> str:\n",
    "    binary_string = json.loads(test_case_input)\n",
    "    n_wires = int(len(binary_string))\n",
    "\n",
    "    dev = qml.device(\"default.qubit\", wires = n_wires)\n",
    "    @qml.qnode(dev)\n",
    "    def circuit():\n",
    "        qml.BasisEmbedding(binary_string, range(n_wires))\n",
    "        binary_to_grey(n_wires)\n",
    "        return qml.probs()\n",
    "    \n",
    "    output = circuit().tolist()\n",
    "    \n",
    "    return str(output)\n",
    "\n",
    "def check(solution_output: str, expected_output: str) -> None:\n",
    "    solution_output = json.loads(solution_output)\n",
    "    expected_output = json.loads(expected_output)\n",
    "    assert np.allclose(solution_output, expected_output, rtol=1e-4)\n"
   ]
  },
  {
   "cell_type": "code",
   "execution_count": null,
   "id": "d1df299a",
   "metadata": {},
   "outputs": [],
   "source": []
  }
 ],
 "metadata": {
  "kernelspec": {
   "display_name": "Python 3 (ipykernel)",
   "language": "python",
   "name": "python3"
  },
  "language_info": {
   "codemirror_mode": {
    "name": "ipython",
    "version": 3
   },
   "file_extension": ".py",
   "mimetype": "text/x-python",
   "name": "python",
   "nbconvert_exporter": "python",
   "pygments_lexer": "ipython3",
   "version": "3.11.5"
  }
 },
 "nbformat": 4,
 "nbformat_minor": 5
}
