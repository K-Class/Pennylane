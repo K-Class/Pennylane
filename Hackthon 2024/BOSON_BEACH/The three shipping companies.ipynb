{
 "cells": [
  {
   "cell_type": "markdown",
   "id": "b1889a57",
   "metadata": {},
   "source": [
    "![1](images/BOSON_BEACH_500_1.png)\n",
    "    \n",
    "![2](images/BOSON_BEACH_500_2.png)\n",
    "\n"
   ]
  },
  {
   "cell_type": "code",
   "execution_count": 1,
   "id": "2da1fc39",
   "metadata": {},
   "outputs": [],
   "source": [
    "import json\n",
    "import pennylane as qml\n",
    "import pennylane.numpy as np\n",
    "\n",
    "\n",
    "def U():\n",
    "    \"\"\"\n",
    "    Quantum circuit that facilitates the distribution of goods.\n",
    "    It should not return anything, you simply need to add the gates.\n",
    "    \"\"\"\n",
    "\n",
    "    # Put your code here #\n",
    "    aux_wires = list(range(10, 13))\n",
    "    t0, t1, t2 = aux_wires[0], aux_wires[1], aux_wires[2]\n",
    "\n",
    "    # Put your code here #\n",
    "    for c in range(10):\n",
    "        qml.MultiControlledX([c, t0], [t1], '11')\n",
    "        qml.MultiControlledX([c, t0], [t2], '11')\n",
    "        qml.MultiControlledX([c, t1], [t0], '10')\n",
    "\n",
    "    for wire in range(10):\n",
    "        qml.MultiControlledX([t0, t1, t2], wire, '100')\n",
    "\n",
    "    qml.SWAP([t0, t1])\n",
    "    qml.MultiControlledX([t1, t2], 9, '11')\n",
    "    qml.ctrl(qml.SWAP, [t1, t2], [1, 1])([9, t0])\n",
    "\n",
    "    for wire in range(9):\n",
    "        qml.MultiControlledX([t0, t1, t2], wire, '011')\n",
    "# These functions are responsible for testing the solution.\n",
    "\n",
    "\n",
    "def run(test_case_input: str) -> str:\n",
    "    return None\n",
    "\n",
    "\n",
    "def check(have: str, want: str) -> None:\n",
    "    have, want = have, want\n",
    "    params = np.random.rand(10, 2)\n",
    "\n",
    "    dev = qml.device(\"default.qubit\", wires=13, shots=1000)\n",
    "\n",
    "    def generate_phi(params, wires):\n",
    "        for i in range(len(wires)):\n",
    "            qml.RX(params[i][0], wires=wires[i])\n",
    "\n",
    "        for i in range(len(wires) - 1):\n",
    "            qml.CNOT(wires=[i, i + 1])\n",
    "\n",
    "        for i in range(len(wires)):\n",
    "            qml.RX(params[i][1], wires=wires[i])\n",
    "\n",
    "    @qml.qnode(dev)\n",
    "    def circuit():\n",
    "        generate_phi(params, wires=range(10))\n",
    "        U()\n",
    "        return qml.sample(wires=range(10))\n",
    "\n",
    "    shots = circuit()\n",
    "    for shot in shots:\n",
    "        assert sum(shot) % 3 == 0, \"Wrong answer\"\n",
    "\n",
    "    for op in circuit.tape.operations:\n",
    "        assert not isinstance(op, qml.QubitUnitary), \"You can't use QubitUnitary\"\n",
    "        assert not isinstance(op, qml.measurements.mid_measure.MidMeasureMP), \"You cannot use measurements\"\n"
   ]
  },
  {
   "cell_type": "code",
   "execution_count": null,
   "id": "2923e86b",
   "metadata": {},
   "outputs": [],
   "source": []
  }
 ],
 "metadata": {
  "kernelspec": {
   "display_name": "Python 3 (ipykernel)",
   "language": "python",
   "name": "python3"
  },
  "language_info": {
   "codemirror_mode": {
    "name": "ipython",
    "version": 3
   },
   "file_extension": ".py",
   "mimetype": "text/x-python",
   "name": "python",
   "nbconvert_exporter": "python",
   "pygments_lexer": "ipython3",
   "version": "3.11.5"
  }
 },
 "nbformat": 4,
 "nbformat_minor": 5
}
