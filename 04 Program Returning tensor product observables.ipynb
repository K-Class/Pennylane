{
 "cells": [
  {
   "cell_type": "code",
   "execution_count": 2,
   "id": "015bbf53",
   "metadata": {},
   "outputs": [],
   "source": [
    "import json\n",
    "import pennylane as qml\n",
    "import pennylane.numpy as np"
   ]
  },
  {
   "cell_type": "code",
   "execution_count": 12,
   "id": "9791f0ba",
   "metadata": {},
   "outputs": [
    {
     "data": {
      "text/plain": [
       "tensor(0.11272621, requires_grad=True)"
      ]
     },
     "execution_count": 12,
     "metadata": {},
     "output_type": "execute_result"
    }
   ],
   "source": [
    "\n",
    "num_wires = 1\n",
    "dev = qml.device('default.qubit', wires=2)# Put your code here #\n",
    "\n",
    "@qml.qnode(dev)\n",
    "\n",
    "\n",
    "def simple_circuit(angle):\n",
    "    qml.Hadamard(wires =0)\n",
    "    qml.CNOT(wires=[0,1])\n",
    "    qml.RY(angle, wires= 0)\n",
    "#     qml.draw('latex')\n",
    "    return qml.expval(qml.PauliZ(0) @ qml.PauliZ(1))\n",
    "\n",
    "angle = 1.45783\n",
    "q = simple_circuit(1.45783)\n",
    "q"
   ]
  },
  {
   "cell_type": "code",
   "execution_count": 9,
   "id": "e0c96396",
   "metadata": {},
   "outputs": [
    {
     "data": {
      "text/plain": [
       "0.01270719890459285"
      ]
     },
     "execution_count": 9,
     "metadata": {},
     "output_type": "execute_result"
    }
   ],
   "source": []
  },
  {
   "cell_type": "code",
   "execution_count": null,
   "id": "1dda8942",
   "metadata": {},
   "outputs": [],
   "source": []
  }
 ],
 "metadata": {
  "kernelspec": {
   "display_name": "Python 3 (ipykernel)",
   "language": "python",
   "name": "python3"
  },
  "language_info": {
   "codemirror_mode": {
    "name": "ipython",
    "version": 3
   },
   "file_extension": ".py",
   "mimetype": "text/x-python",
   "name": "python",
   "nbconvert_exporter": "python",
   "pygments_lexer": "ipython3",
   "version": "3.11.5"
  }
 },
 "nbformat": 4,
 "nbformat_minor": 5
}
