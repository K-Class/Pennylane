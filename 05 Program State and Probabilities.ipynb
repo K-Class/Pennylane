{
 "cells": [
  {
   "cell_type": "code",
   "execution_count": 2,
   "id": "be37d010",
   "metadata": {},
   "outputs": [],
   "source": [
    "import json\n",
    "import pennylane as qml\n",
    "import pennylane.numpy as np"
   ]
  },
  {
   "cell_type": "code",
   "execution_count": 4,
   "id": "f966567f",
   "metadata": {},
   "outputs": [
    {
     "data": {
      "text/plain": [
       "tensor([0.83263952, 0.13972978, 0.02366016, 0.00397054], requires_grad=True)"
      ]
     },
     "execution_count": 4,
     "metadata": {},
     "output_type": "execute_result"
    }
   ],
   "source": [
    "dev = qml.device(\"default.qubit\", wires = 2)\n",
    "@qml.qnode(dev)\n",
    "\n",
    "def circuits(angles):\n",
    "    \n",
    "    qml.RY(angles[0], wires =0)\n",
    "    qml.RY(angles[1], wires =1)\n",
    "    \n",
    "    return qml.probs(wires= [0,1])\n",
    "\n",
    "angles = [0.334, 0.7776]\n",
    "circuits(angles)"
   ]
  },
  {
   "cell_type": "code",
   "execution_count": null,
   "id": "5ceab565",
   "metadata": {},
   "outputs": [],
   "source": []
  }
 ],
 "metadata": {
  "kernelspec": {
   "display_name": "Python 3 (ipykernel)",
   "language": "python",
   "name": "python3"
  },
  "language_info": {
   "codemirror_mode": {
    "name": "ipython",
    "version": 3
   },
   "file_extension": ".py",
   "mimetype": "text/x-python",
   "name": "python",
   "nbconvert_exporter": "python",
   "pygments_lexer": "ipython3",
   "version": "3.11.5"
  }
 },
 "nbformat": 4,
 "nbformat_minor": 5
}
