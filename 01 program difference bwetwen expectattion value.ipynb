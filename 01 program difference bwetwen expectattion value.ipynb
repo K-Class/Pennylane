{
 "cells": [
  {
   "cell_type": "code",
   "execution_count": 2,
   "id": "0b4efd1a",
   "metadata": {},
   "outputs": [],
   "source": [
    "import json\n",
    "import pennylane as qml\n",
    "import pennylane.numpy as np"
   ]
  },
  {
   "cell_type": "code",
   "execution_count": 10,
   "id": "54f1c93d",
   "metadata": {},
   "outputs": [
    {
     "data": {
      "text/plain": [
       "tensor(1.17701914, requires_grad=True)"
      ]
     },
     "execution_count": 10,
     "metadata": {},
     "output_type": "execute_result"
    }
   ],
   "source": [
    "import json\n",
    "import pennylane as qml\n",
    "import pennylane.numpy as np\n",
    "\n",
    "dev = qml.device(\"default.qubit\", wires=2)\n",
    "\n",
    "\n",
    "@qml.qnode(dev)\n",
    "\n",
    "def circuit1(angles):\n",
    "   \n",
    "\n",
    "    # Put your code here #\n",
    "    qml.RX(angles[0], wires=0)\n",
    "    qml.RY(angles[1], wires=0)\n",
    "    q = qml.expval(qml.PauliX(0))\n",
    "    # Return the expectation value\n",
    "    return q\n",
    "\n",
    "@qml.qnode(dev)\n",
    "def circuit2(angles):\n",
    "    \n",
    "\n",
    "    # Put your code here #\n",
    "    qml.RY(angles[1], wires=1)\n",
    "    qml.RX(angles[0], wires=1)\n",
    "    # Return the expectation value\n",
    "    return qml.expval(qml.PauliX(1))\n",
    "\n",
    "def compare_circuits(angles):\n",
    "    \n",
    "    # Put your code here #\n",
    "    b = circuit2(angles)\n",
    "    a = circuit1(angles)\n",
    "    # Return the required difference in expectation values\n",
    "    return abs(a-b)\n",
    "\n",
    "angles = [3.79894785, 0.71678115]\n",
    "\n",
    "result = compare_circuits(angles)\n",
    "result"
   ]
  },
  {
   "cell_type": "code",
   "execution_count": 5,
   "id": "eac11e05",
   "metadata": {},
   "outputs": [
    {
     "data": {
      "text/plain": [
       "tensor(0., requires_grad=True)"
      ]
     },
     "execution_count": 5,
     "metadata": {},
     "output_type": "execute_result"
    }
   ],
   "source": []
  },
  {
   "cell_type": "code",
   "execution_count": null,
   "id": "ae681607",
   "metadata": {},
   "outputs": [],
   "source": []
  }
 ],
 "metadata": {
  "kernelspec": {
   "display_name": "Python 3 (ipykernel)",
   "language": "python",
   "name": "python3"
  },
  "language_info": {
   "codemirror_mode": {
    "name": "ipython",
    "version": 3
   },
   "file_extension": ".py",
   "mimetype": "text/x-python",
   "name": "python",
   "nbconvert_exporter": "python",
   "pygments_lexer": "ipython3",
   "version": "3.11.5"
  }
 },
 "nbformat": 4,
 "nbformat_minor": 5
}
