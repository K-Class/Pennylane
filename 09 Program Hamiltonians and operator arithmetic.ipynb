{
 "cells": [
  {
   "cell_type": "code",
   "execution_count": 1,
   "id": "bd164ddf",
   "metadata": {},
   "outputs": [],
   "source": [
    "import json\n",
    "import pennylane as qml\n",
    "import pennylane.numpy as np\n",
    "# import jax\n",
    "# from jax import numpy as jnp"
   ]
  },
  {
   "cell_type": "code",
   "execution_count": 92,
   "id": "e6bb4a25",
   "metadata": {},
   "outputs": [
    {
     "name": "stdout",
     "output_type": "stream",
     "text": [
      "Running test case 0 with input '8'...\n",
      "Correct!\n",
      "Running test case 1 with input '3'...\n",
      "Correct!\n"
     ]
    }
   ],
   "source": [
    "import json\n",
    "import pennylane as qml\n",
    "import pennylane.numpy as np\n",
    "\n",
    "num_wires =8\n",
    "\n",
    "def hamiltonian(num_wires):\n",
    "   \n",
    "    # Put your solution here #\n",
    "    temp =[]\n",
    "    coeffs=[]\n",
    "    for i in range(num_wires):\n",
    "        temp.append(qml.PauliZ(i))\n",
    "        coeffs.append(-1)\n",
    "        for j in range(1,num_wires):\n",
    "            if j>i:\n",
    "                temp.append(qml.PauliX(i)@qml.PauliX(j))\n",
    "                coeffs.append(1/3)\n",
    "    return qml.Hamiltonian(coeffs, temp)\n",
    "\n",
    "\n",
    "def expectation_value(num_wires):\n",
    "    \n",
    "\n",
    "    # Put your solution here #\n",
    "    m = qml.matrix(hamiltonian(num_wires))\n",
    "    # Define a device using qml.device\n",
    "    dev = qml.device(\"default.qubit\", wires=num_wires)\n",
    "\n",
    "    @qml.qnode(dev)\n",
    "    def circuit(num_wires):\n",
    "    \n",
    "        # Put Hadamard gates here #\n",
    "        for i in range(num_wires):\n",
    "            qml.Hadamard(wires=i)\n",
    "        \n",
    "        # Then return the expectation value of the Hamiltonian using qml.expval\n",
    "        return qml.expval(qml.Hermitian(m, wires=[x for x in range(num_wires)] ))\n",
    "\n",
    "    return circuit(num_wires)\n",
    "\n",
    "\n",
    "expectation_value(num_wires)\n",
    "\n",
    "\n",
    "# These functions are responsible for testing the solution.\n",
    "def run(test_case_input: str) -> str:\n",
    "    num_wires = json.loads(test_case_input)\n",
    "    output = expectation_value(num_wires)\n",
    "\n",
    "    return str(output)\n",
    "\n",
    "\n",
    "def check(solution_output: str, expected_output: str) -> None:\n",
    "    solution_output = json.loads(solution_output)\n",
    "    expected_output = json.loads(expected_output)\n",
    "    assert np.allclose(solution_output, expected_output, rtol=1e-4)\n",
    "\n",
    "\n",
    "# These are the public test cases\n",
    "test_cases = [\n",
    "    ('8', '9.33333'),\n",
    "    ('3', '1.00000')\n",
    "]\n",
    "\n",
    "# This will run the public test cases locally\n",
    "for i, (input_, expected_output) in enumerate(test_cases):\n",
    "    print(f\"Running test case {i} with input '{input_}'...\")\n",
    "\n",
    "    try:\n",
    "        output = run(input_)\n",
    "\n",
    "    except Exception as exc:\n",
    "        print(f\"Runtime Error. {exc}\")\n",
    "\n",
    "    else:\n",
    "        if message := check(output, expected_output):\n",
    "            print(f\"Wrong Answer. Have: '{output}'. Want: '{expected_output}'.\")\n",
    "\n",
    "        else:\n",
    "            print(\"Correct!\")"
   ]
  },
  {
   "cell_type": "code",
   "execution_count": null,
   "id": "fc4ea1b3",
   "metadata": {},
   "outputs": [],
   "source": []
  },
  {
   "cell_type": "code",
   "execution_count": null,
   "id": "064806c2",
   "metadata": {},
   "outputs": [],
   "source": []
  },
  {
   "cell_type": "code",
   "execution_count": null,
   "id": "d0c85ad7",
   "metadata": {},
   "outputs": [],
   "source": []
  }
 ],
 "metadata": {
  "kernelspec": {
   "display_name": "Python 3 (ipykernel)",
   "language": "python",
   "name": "python3"
  },
  "language_info": {
   "codemirror_mode": {
    "name": "ipython",
    "version": 3
   },
   "file_extension": ".py",
   "mimetype": "text/x-python",
   "name": "python",
   "nbconvert_exporter": "python",
   "pygments_lexer": "ipython3",
   "version": "3.11.5"
  }
 },
 "nbformat": 4,
 "nbformat_minor": 5
}
